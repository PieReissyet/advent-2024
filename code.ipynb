{
 "cells": [
  {
   "cell_type": "markdown",
   "metadata": {},
   "source": [
    "# DAY 1"
   ]
  },
  {
   "cell_type": "code",
   "execution_count": 115,
   "metadata": {},
   "outputs": [
    {
     "data": {
      "text/plain": [
       "1646452"
      ]
     },
     "execution_count": 115,
     "metadata": {},
     "output_type": "execute_result"
    }
   ],
   "source": [
    "# Part1\n",
    "\n",
    "import polars as pl\n",
    "\n",
    "txt = open('files/advent1_1.txt', 'r').readlines()\n",
    "l1 = [int(r.split(' ')[0].strip()) for r in txt]\n",
    "l2 = [int(r.split(' ')[-1].strip()) for r in txt]\n",
    "df1, df2 = pl.DataFrame({'l1': l1}, schema={'l1': pl.Int64}).sort('l1', descending=False).with_row_index(), pl.DataFrame({'l2': l2}, schema={'l2': pl.Int64}).sort('l2', descending=False).with_row_index()\n",
    "df1.join(df2, on='index').with_columns(abs(pl.col('l1') - pl.col('l2')).alias('dif'))['dif'].sum()"
   ]
  },
  {
   "cell_type": "code",
   "execution_count": 116,
   "metadata": {},
   "outputs": [
    {
     "data": {
      "text/plain": [
       "23609874"
      ]
     },
     "execution_count": 116,
     "metadata": {},
     "output_type": "execute_result"
    }
   ],
   "source": [
    "# Part2\n",
    "(df1.join(df2.group_by('l2').agg(pl.len()), left_on='l1', right_on='l2', how='left')\n",
    " .fill_null(0)\n",
    " .with_columns((pl.col('l1') * pl.col('len')).alias('sim'))\n",
    " ['sim'].sum())"
   ]
  },
  {
   "cell_type": "markdown",
   "metadata": {},
   "source": [
    "# DAY 2"
   ]
  },
  {
   "cell_type": "code",
   "execution_count": 117,
   "metadata": {},
   "outputs": [],
   "source": [
    "txt = [[int(d) for d in l.split(' ')] for l in open('files/advent2.txt', 'r').read().split('\\n')]"
   ]
  },
  {
   "cell_type": "code",
   "execution_count": 129,
   "metadata": {},
   "outputs": [
    {
     "data": {
      "text/plain": [
       "660"
      ]
     },
     "execution_count": 129,
     "metadata": {},
     "output_type": "execute_result"
    }
   ],
   "source": [
    "# Part 1\n",
    "def is_false(row):\n",
    "    incr = [row[i] - row[i + 1] for i in range(0, len(row) - 1)]\n",
    "    return 0 if (set(incr) <= {1, 2, 3} or set(incr) <= {-1, -2, -3}) else 1\n",
    "\n",
    "len(txt) - sum(is_false(row) for row in txt)"
   ]
  },
  {
   "cell_type": "code",
   "execution_count": 130,
   "metadata": {},
   "outputs": [
    {
     "data": {
      "text/plain": [
       "689"
      ]
     },
     "execution_count": 130,
     "metadata": {},
     "output_type": "execute_result"
    }
   ],
   "source": [
    "# Part 2\n",
    "len(txt) - sum(all(is_false(row[:i] + row[i + 1:]) for i in range(len(row))) for row in txt)"
   ]
  },
  {
   "cell_type": "markdown",
   "metadata": {},
   "source": [
    "# DAY 3"
   ]
  },
  {
   "cell_type": "code",
   "execution_count": 3,
   "metadata": {},
   "outputs": [
    {
     "data": {
      "text/plain": [
       "175615763"
      ]
     },
     "execution_count": 3,
     "metadata": {},
     "output_type": "execute_result"
    }
   ],
   "source": [
    "# Part 1\n",
    "import re\n",
    "\n",
    "sum(list(map(lambda l: int(l[0]) * int(l[1]), re.findall(r'mul\\((\\d{1,3}),(\\d{1,3})\\)', open('files/advent3.txt', 'r').read()))))"
   ]
  },
  {
   "cell_type": "code",
   "execution_count": 176,
   "metadata": {},
   "outputs": [
    {
     "data": {
      "text/plain": [
       "74361272"
      ]
     },
     "execution_count": 176,
     "metadata": {},
     "output_type": "execute_result"
    }
   ],
   "source": [
    "# Part 2\n",
    "sum = 0\n",
    "skip_next = 0\n",
    "for match in re.finditer('do\\(\\)|don\\'t\\(\\)|mul\\((\\d{1,3}),(\\d{1,3})\\)', txt):\n",
    "    match match[0]:\n",
    "        case \"don't()\":\n",
    "            skip_next = 1\n",
    "            continue\n",
    "        case \"do()\":\n",
    "            skip_next = 0\n",
    "            continue\n",
    "        case _:\n",
    "            if skip_next:\n",
    "                continue\n",
    "            else:\n",
    "                sum += int(match[1]) * int(match[2])\n",
    "sum"
   ]
  },
  {
   "cell_type": "markdown",
   "metadata": {},
   "source": [
    "# DAY 4"
   ]
  },
  {
   "cell_type": "code",
   "execution_count": 137,
   "metadata": {},
   "outputs": [],
   "source": [
    "matrice = [[w for w in r.strip('\\n')] for r in open('files/advent4.txt', 'r').readlines()]"
   ]
  },
  {
   "cell_type": "code",
   "execution_count": 138,
   "metadata": {},
   "outputs": [
    {
     "data": {
      "text/plain": [
       "2521"
      ]
     },
     "execution_count": 138,
     "metadata": {},
     "output_type": "execute_result"
    }
   ],
   "source": [
    "# Part 1\n",
    "def check(matrice, i, j, depth, direction_i, direction_j):\n",
    "    if i < 0 or i >= len(matrice) or j < 0 or j >= len(matrice[0]):\n",
    "        return 0\n",
    "    if matrice[i][j] == letters[depth]:\n",
    "        if depth == 3:\n",
    "            return 1\n",
    "        else:\n",
    "            return check(matrice, i + direction_i, j + direction_j, depth + 1, direction_i, direction_j)\n",
    "    else:\n",
    "        return 0\n",
    "\n",
    "letters = ['X', 'M', 'A', 'S']\n",
    "depth = 0\n",
    "\n",
    "tot = 0\n",
    "for i in range(len(matrice)):\n",
    "    for j in range(len(matrice[i])):\n",
    "        if matrice[i][j] == letters[depth]:\n",
    "            for direction_i in [-1, 0, 1]:\n",
    "                for direction_j in [-1, 0, 1]:\n",
    "                    tot += check(matrice, i + direction_i, j + direction_j, depth + 1, direction_i, direction_j)\n",
    "tot"
   ]
  },
  {
   "cell_type": "code",
   "execution_count": 139,
   "metadata": {},
   "outputs": [
    {
     "data": {
      "text/plain": [
       "1912"
      ]
     },
     "execution_count": 139,
     "metadata": {},
     "output_type": "execute_result"
    }
   ],
   "source": [
    "# Part 2\n",
    "def check(matrice, i, j, checked_other, direction_i, direction_j):\n",
    "    if i < 0 or i >= len(matrice) or j < 0 or j >= len(matrice[0]):\n",
    "        return 0\n",
    "    letter = matrice[i][j]\n",
    "    if letter not in ['M', 'S']:\n",
    "        return 0\n",
    "    if letter == 'M':\n",
    "        if not checked_other:\n",
    "            checked_other = 'M'\n",
    "        else:\n",
    "            return 1 if checked_other == 'S' else 0\n",
    "    if letter == 'S':\n",
    "        if not checked_other:\n",
    "            checked_other = 'S'\n",
    "        else:\n",
    "            return 1 if checked_other == 'M' else 0\n",
    "    return check(matrice, i - direction_i - direction_i, j - direction_j - direction_j, checked_other, direction_i, direction_j)\n",
    "\n",
    "tot = 0\n",
    "for i in range(len(matrice)):\n",
    "    for j in range(len(matrice[i])):\n",
    "        if matrice[i][j] == 'A':\n",
    "            tot += check(matrice, i - 1, j - 1, None, direction_i=-1, direction_j=-1) and check(matrice, i -1 , j + 1, None, direction_i=-1, direction_j=1)\n",
    "\n",
    "tot"
   ]
  },
  {
   "cell_type": "markdown",
   "metadata": {},
   "source": [
    "# DAY 5"
   ]
  },
  {
   "cell_type": "code",
   "execution_count": 27,
   "metadata": {},
   "outputs": [
    {
     "data": {
      "text/plain": [
       "(7307, 4672)"
      ]
     },
     "execution_count": 27,
     "metadata": {},
     "output_type": "execute_result"
    }
   ],
   "source": [
    "rules, updates = open('files/advent5.txt').read().split('\\n\\n')\n",
    "updates = [x.split(',') for x in updates.split('\\n')]\n",
    "\n",
    "from functools import cmp_to_key\n",
    "\n",
    "# -1 x<y, 0 x==y, 1 x > y\n",
    "compare_by_rules = cmp_to_key(lambda x, y: 1 - 2 * (f'{x}|{y}' in rules))\n",
    "\n",
    "sum_part1 = sum([int(u[len(u) // 2]) for u in updates if u == sorted(u, key=compare_by_rules)])\n",
    "sum_part2 = sum([int(u[len(u) // 2]) for u in updates if u != sorted(u, key=compare_by_rules)])\n",
    "   \n",
    "sum_part1, sum_part2"
   ]
  },
  {
   "cell_type": "markdown",
   "metadata": {},
   "source": [
    "# DAY 6"
   ]
  },
  {
   "cell_type": "code",
   "execution_count": 195,
   "metadata": {},
   "outputs": [],
   "source": [
    "file = 'files/advent6.txt'\n",
    "map = [[i for i in j if i != '\\n'] for j in open(file).readlines()]\n",
    "obstacles = [[i, j] for i, _ in enumerate(open(file).readlines()) for j, t in enumerate(_) if t =='#']"
   ]
  },
  {
   "cell_type": "code",
   "execution_count": 232,
   "metadata": {},
   "outputs": [
    {
     "data": {
      "text/plain": [
       "4656"
      ]
     },
     "execution_count": 232,
     "metadata": {},
     "output_type": "execute_result"
    }
   ],
   "source": [
    "# Part 1\n",
    "\n",
    "from collections import defaultdict\n",
    "symb, (x, y) = [(t, [i, j]) for i, _ in enumerate(open(file).readlines()) for j, t in enumerate(_) if t not in ['#', '.', '\\n']][0]\n",
    "def get_direction(symb):\n",
    "    if symb == '^':\n",
    "        direction_i, direction_j = -1, 0\n",
    "    elif symb == '>':\n",
    "        direction_i, direction_j = 0, 1\n",
    "    elif symb == 'v':\n",
    "        direction_i, direction_j = 1, 0\n",
    "    elif symb == '<':\n",
    "        direction_i, direction_j = 0, -1\n",
    "    return direction_i, direction_j\n",
    "\n",
    "evolution_symb = {'^': '>', '>': 'v', 'v':'<', '<': '^'}\n",
    "seen = defaultdict(list) | {(x,y): [(-1, 0)]}\n",
    "def run_sim(x, y, symb, seen, new_obstacle):\n",
    "    obstacles_f = obstacles + [new_obstacle]\n",
    "    direction_i, direction_j = get_direction(symb)\n",
    "    while x >= 0 and x < len(map) and y >= 0 and y < len(map[0]):\n",
    "        while ([x + direction_i, y + direction_j] not in obstacles_f) and (x >= 0 and x < len(map) and y >= 0 and y < len(map[0])):\n",
    "            x += direction_i\n",
    "            y += direction_j\n",
    "            if (x, y) in seen:\n",
    "                if (direction_i, direction_j) in seen[(x,y)]:\n",
    "                    return [new_obstacle]\n",
    "            seen[(x, y)].append((direction_i, direction_j))\n",
    "        symb = evolution_symb[symb]\n",
    "        direction_i, direction_j = get_direction(symb)\n",
    "    return []\n",
    "\n",
    "run_sim(x, y, symb, seen, [])\n",
    "len(seen) - 1"
   ]
  },
  {
   "cell_type": "code",
   "execution_count": 233,
   "metadata": {},
   "outputs": [
    {
     "data": {
      "text/plain": [
       "1575"
      ]
     },
     "execution_count": 233,
     "metadata": {},
     "output_type": "execute_result"
    }
   ],
   "source": [
    "# Part 2\n",
    "from copy import deepcopy\n",
    "wrong_paths = []\n",
    "symb, (x, y) = [(t, [i, j]) for i, _ in enumerate(open(file).readlines()) for j, t in enumerate(_) if t not in ['#', '.', '\\n']][0]\n",
    "seen = defaultdict(list) | {(x,y): [(-1, 0)]}\n",
    "direction_i, direction_j = get_direction(symb)\n",
    "\n",
    "while x >= 0 and x < len(map) and y >= 0 and y < len(map[0]):\n",
    "    while ([x + direction_i, y + direction_j] not in obstacles) and (x >= 0 and x < len(map) and y >= 0 and y < len(map[0])):\n",
    "        if [x + direction_i, y + direction_j] not in wrong_paths and (x + direction_i, y + direction_j) not in seen:\n",
    "            seen_cp = deepcopy(seen)\n",
    "            wrong_paths += run_sim(x, y, symb, seen_cp, [x + direction_i, y + direction_j])\n",
    "        x += direction_i\n",
    "        y += direction_j\n",
    "\n",
    "        seen[(x, y)].append((direction_i, direction_j))\n",
    "    symb = evolution_symb[symb]\n",
    "    direction_i, direction_j = get_direction(symb)\n",
    "len(wrong_paths)"
   ]
  },
  {
   "cell_type": "markdown",
   "metadata": {},
   "source": [
    "# DAY 7"
   ]
  },
  {
   "cell_type": "code",
   "execution_count": 33,
   "metadata": {},
   "outputs": [
    {
     "data": {
      "text/plain": [
       "1153997401072"
      ]
     },
     "execution_count": 33,
     "metadata": {},
     "output_type": "execute_result"
    }
   ],
   "source": [
    "from itertools import product\n",
    "from functools import reduce\n",
    "\n",
    "parsed_input = [(\n",
    "    int(l.split(': ')[0]),\n",
    "    list(map(int, l.split(': ')[1].split(' ')))) for l in open('files/advent7.txt').readlines()]\n",
    "\n",
    "ope = {'+': lambda x, y: x + y, '*': lambda x, y : x * y, '||': lambda x,y: int(str(x) + str(y))}\n",
    "\n",
    "count = 0\n",
    "for result, digits in parsed_input:\n",
    "    first_digit = digits.pop(0)\n",
    "    for combinations in product(['+', '*'], repeat=len(digits)):\n",
    "        if result == reduce(lambda acc, iv: ope[combinations[iv[0]]](acc, iv[1]), enumerate(digits), first_digit):\n",
    "            count += result\n",
    "            break\n",
    "count"
   ]
  },
  {
   "cell_type": "code",
   "execution_count": 32,
   "metadata": {},
   "outputs": [
    {
     "data": {
      "text/plain": [
       "97902809384118"
      ]
     },
     "execution_count": 32,
     "metadata": {},
     "output_type": "execute_result"
    }
   ],
   "source": [
    "# Part 2 v1\n",
    "parsed_input = [(\n",
    "    int(l.split(': ')[0]),\n",
    "    list(map(int, l.split(': ')[1].split(' ')))) for l in open('files/advent7.txt').readlines()]\n",
    "\n",
    "count = 0\n",
    "for result, digits in parsed_input:\n",
    "    first_digit = digits.pop(0)\n",
    "    for combinations in product(['+', '*', '||'], repeat=len(digits)):\n",
    "        if result == reduce(lambda acc, iv: ope[combinations[iv[0]]](acc, iv[1]), enumerate(digits), first_digit):\n",
    "            count += result\n",
    "            break\n",
    "count"
   ]
  },
  {
   "cell_type": "code",
   "execution_count": 41,
   "metadata": {},
   "outputs": [
    {
     "data": {
      "text/plain": [
       "97902809384118"
      ]
     },
     "execution_count": 41,
     "metadata": {},
     "output_type": "execute_result"
    }
   ],
   "source": [
    "# Part 2 v2\n",
    "parsed_input = [(\n",
    "    int(l.split(': ')[0]),\n",
    "    list(map(int, l.split(': ')[1].split(' ')))) for l in open('files/advent7.txt').readlines()]\n",
    "\n",
    "count = 0\n",
    "\n",
    "for result, digits in parsed_input:\n",
    "    l_res = [digits.pop(0)]\n",
    "    for d in digits:\n",
    "        l_res = [f(old_res, d) for old_res in l_res for f in ope.values()]\n",
    "    if result in l_res:\n",
    "        count += result\n",
    "count"
   ]
  },
  {
   "cell_type": "markdown",
   "metadata": {},
   "source": [
    "# DAY 8"
   ]
  },
  {
   "cell_type": "code",
   "execution_count": 90,
   "metadata": {},
   "outputs": [],
   "source": [
    "from collections import defaultdict\n",
    "from operator import add, sub\n",
    "\n",
    "map = [[i for i in j if i != '\\n'] for j in open('files/advent8.txt')]\n",
    "antennas = defaultdict(list)\n",
    "for i, row in enumerate(map):\n",
    "    for j, val in enumerate(row):\n",
    "        if val != '.':\n",
    "            antennas[val].append((i, j))     "
   ]
  },
  {
   "cell_type": "code",
   "execution_count": 91,
   "metadata": {},
   "outputs": [
    {
     "data": {
      "text/plain": [
       "369"
      ]
     },
     "execution_count": 91,
     "metadata": {},
     "output_type": "execute_result"
    }
   ],
   "source": [
    "# Part 1\n",
    "\n",
    "anti_nodes = []\n",
    "for antenna, l_coord in antennas.items():\n",
    "    for comb in combinations(l_coord, 2):\n",
    "        dist_x, dist_y = comb[0][0] - comb[1][0],  comb[0][1] - comb[1][1]\n",
    "        for i, op in enumerate([add, sub]):\n",
    "            n = (op(comb[i][0], dist_x), op(comb[i][1], dist_y))\n",
    "            if n[0] >= 0 and n[0] < len(map) and n[1] >= 0 and n[1] <len(map[0]) and n not in anti_nodes:\n",
    "                anti_nodes.append(n)\n",
    "len(anti_nodes)"
   ]
  },
  {
   "cell_type": "code",
   "execution_count": 92,
   "metadata": {},
   "outputs": [
    {
     "data": {
      "text/plain": [
       "1169"
      ]
     },
     "execution_count": 92,
     "metadata": {},
     "output_type": "execute_result"
    }
   ],
   "source": [
    "# Part 2\n",
    "\n",
    "anti_nodes = []\n",
    "for antenna, l_coord in antennas.items():\n",
    "    for comb in combinations(l_coord, 2):\n",
    "        dist_x, dist_y = comb[0][0] - comb[1][0],  comb[0][1] - comb[1][1]\n",
    "        for i, op in enumerate([add, sub]):\n",
    "            if comb[i] not in anti_nodes:\n",
    "                anti_nodes.append(comb[i])\n",
    "            n = (op(comb[i][0], dist_x), op(comb[i][1], dist_y))\n",
    "            while n[0] >= 0 and n[0] < len(map) and n[1] >= 0 and n[1] <len(map[0]):\n",
    "                if n not in anti_nodes:\n",
    "                    anti_nodes.append(n)\n",
    "                n = (op(n[0], dist_x), op(n[1], dist_y))\n",
    "\n",
    "len(anti_nodes)"
   ]
  },
  {
   "cell_type": "markdown",
   "metadata": {},
   "source": [
    "# DAY 9"
   ]
  },
  {
   "cell_type": "code",
   "execution_count": 56,
   "metadata": {},
   "outputs": [
    {
     "data": {
      "text/plain": [
       "6395800119709"
      ]
     },
     "execution_count": 56,
     "metadata": {},
     "output_type": "execute_result"
    }
   ],
   "source": [
    "# Part 1\n",
    "l = open('files/advent9.txt').read()\n",
    "#l = '2333133121414131402'\n",
    "\n",
    "free_indexes = list(map(int, list(l)[1::2]))\n",
    "files = list(map(int, list(l)[::2]))\n",
    "\n",
    "filled_memory = []\n",
    "for i, memory_size in enumerate(free_indexes):\n",
    "    if len(filled_memory) == len(files) - 1:\n",
    "        break\n",
    "    filled_memory_idx = []\n",
    "    while memory_size != 0:\n",
    "        last_to_fit = files.pop()\n",
    "        if memory_size >= last_to_fit:\n",
    "            filled_memory_idx.extend([len(files)] * last_to_fit)\n",
    "            memory_size = memory_size - last_to_fit\n",
    "        else:\n",
    "            filled_memory_idx.extend([len(files)] * memory_size)\n",
    "            files.append(last_to_fit - memory_size)\n",
    "            memory_size = 0\n",
    "    filled_memory.append(filled_memory_idx)\n",
    "\n",
    "final = []\n",
    "for i, nb_file in enumerate(files):\n",
    "    final.extend([i] * nb_file)\n",
    "    if i < len(filled_memory):\n",
    "        final.extend(filled_memory[i])\n",
    "        \n",
    "sum([i * nb for i, nb in enumerate(final)])\n"
   ]
  },
  {
   "cell_type": "code",
   "execution_count": 85,
   "metadata": {},
   "outputs": [
    {
     "name": "stderr",
     "output_type": "stream",
     "text": [
      "100%|██████████| 9999/9999 [02:02<00:00, 81.44it/s] \n"
     ]
    },
    {
     "data": {
      "text/plain": [
       "6418529470362"
      ]
     },
     "execution_count": 85,
     "metadata": {},
     "output_type": "execute_result"
    }
   ],
   "source": [
    "# Part 2\n",
    "from tqdm import tqdm\n",
    "\n",
    "l = open('files/advent9.txt').read()\n",
    "\n",
    "free_indexes = list(map(int, list(l)[1::2]))\n",
    "files = list(map(int, list(l)[::2]))\n",
    "\n",
    "from collections import defaultdict\n",
    "\n",
    "file_for_given_memory = defaultdict(list)\n",
    "for memory_size in set(free_indexes):\n",
    "    for i, file_size in enumerate(files):\n",
    "        if file_size <= memory_size:\n",
    "            file_for_given_memory[memory_size].append(i)\n",
    "\n",
    "\n",
    "sorted = []\n",
    "memory_size_gone = []\n",
    "file_checked_for_memory = defaultdict(list)\n",
    "filled_memory = []\n",
    "for i, memory_size in tqdm(list(enumerate(free_indexes))):\n",
    "    filled_memory_idx = []\n",
    "    for i_f, file in enumerate(files[:i:-1]):\n",
    "        if memory_size == 0 or memory_size in memory_size_gone:\n",
    "            break\n",
    "        if len(files) - i_f - 1 in sorted or len(files) - i_f - 1 not in file_for_given_memory[memory_size]:\n",
    "            continue\n",
    "        filled_memory_idx.extend([len(files) - i_f - 1] * file)\n",
    "        memory_size = memory_size - file\n",
    "        sorted.append(len(files) - i_f - 1)\n",
    "    if memory_size:\n",
    "        memory_size_gone.append(memory_size)\n",
    "        filled_memory_idx.extend(['.'] * memory_size)\n",
    "\n",
    "    filled_memory.append(filled_memory_idx)\n",
    "\n",
    "final = []\n",
    "for i, nb_file in enumerate(files):\n",
    "    if i not in sorted:\n",
    "        final.extend([i] * nb_file)\n",
    "    else:\n",
    "        final.extend(['.'] * nb_file)\n",
    "    if i < len(filled_memory):\n",
    "        final.extend(filled_memory[i])\n",
    "        \n",
    "sum([i * nb for i, nb in enumerate(final) if nb != '.'])"
   ]
  },
  {
   "cell_type": "code",
   "execution_count": 4,
   "metadata": {},
   "outputs": [
    {
     "name": "stderr",
     "output_type": "stream",
     "text": [
      "100%|██████████| 9999/9999 [01:49<00:00, 91.24it/s]  \n"
     ]
    },
    {
     "data": {
      "text/plain": [
       "6418529470362"
      ]
     },
     "execution_count": 4,
     "metadata": {},
     "output_type": "execute_result"
    }
   ],
   "source": [
    "from tqdm import tqdm\n",
    "\n",
    "# Part 2 V2\n",
    "l = open('files/advent9.txt').read()\n",
    "\n",
    "free_indexes = list(map(int, list(l)[1::2]))\n",
    "files = list(map(int, list(l)[::2]))\n",
    "\n",
    "count, index_sorted = 0, 0\n",
    "sorted, memory_size_to_not_check = [], []\n",
    "for i, memory_size in tqdm(list(enumerate(free_indexes))):\n",
    "    if i not in sorted:\n",
    "        count += sum([(j + index_sorted) * i for j in range(files[i])])\n",
    "    index_sorted += files[i]\n",
    "    for i_f, file_size in enumerate(files[:i:-1]):\n",
    "        if memory_size == 0 or memory_size in memory_size_to_not_check:\n",
    "            break\n",
    "        if len(files) - i_f - 1 in sorted:\n",
    "            continue\n",
    "        if file_size <= memory_size:\n",
    "            count += sum([(index_sorted + j) * (len(files) - i_f - 1) for j in range(file_size)])\n",
    "            index_sorted += file_size\n",
    "            memory_size = memory_size - file_size\n",
    "            sorted.append(len(files) - i_f - 1)\n",
    "    if memory_size:\n",
    "        memory_size_to_not_check.append(memory_size)\n",
    "        index_sorted += memory_size\n",
    "count"
   ]
  },
  {
   "cell_type": "markdown",
   "metadata": {},
   "source": [
    "# Day 10"
   ]
  },
  {
   "cell_type": "code",
   "execution_count": 92,
   "metadata": {},
   "outputs": [
    {
     "data": {
      "text/plain": [
       "514"
      ]
     },
     "execution_count": 92,
     "metadata": {},
     "output_type": "execute_result"
    }
   ],
   "source": [
    "# Part 1\n",
    "\n",
    "from collections import defaultdict\n",
    "map = {(i,j): int(v) for i, line in enumerate(open('files/advent10.txt')) for j, v in enumerate(line) if v!='\\n' and v!='.'}\n",
    "\n",
    "grad_pos = defaultdict(list)\n",
    "for (i,j), v in map.items():\n",
    "    grad_pos[v].append((i,j))\n",
    "\n",
    "\n",
    "start_coord_validated = defaultdict(list)\n",
    "\n",
    "def check_paths(paths, height, start_coord):\n",
    "    global valid_trailpaths\n",
    "    if height == 9:\n",
    "        for (x,y) in paths:\n",
    "            if (x,y) not in start_coord_validated[start_coord]:\n",
    "                valid_trailpaths += 1\n",
    "                start_coord_validated[start_coord].append((x, y))\n",
    "        return\n",
    "    for x,y in paths:\n",
    "        paths_available = set([(x + i, y + j) for (i, j) in [(-1, 0), (0, 1), (1, 0), (0, -1)]]) & set(grad_pos[height + 1])\n",
    "        check_paths(paths_available, height + 1, start_coord)\n",
    "\n",
    "valid_trailpaths = 0\n",
    "for x,y in grad_pos[0]:\n",
    "    check_paths([(x, y)], 0, (x, y))\n",
    "\n",
    "valid_trailpaths"
   ]
  },
  {
   "cell_type": "code",
   "execution_count": 102,
   "metadata": {},
   "outputs": [
    {
     "data": {
      "text/plain": [
       "1162"
      ]
     },
     "execution_count": 102,
     "metadata": {},
     "output_type": "execute_result"
    }
   ],
   "source": [
    "# Part 2\n",
    "def check_paths2(paths, height):\n",
    "    global valid_trailpaths\n",
    "    if height == 9:\n",
    "        for (x,y) in paths:\n",
    "            valid_trailpaths += 1\n",
    "        return\n",
    "    for x,y in paths:\n",
    "        paths_available = set([(x + i, y + j) for (i, j) in [(-1, 0), (0, 1), (1, 0), (0, -1)]]) & set(grad_pos[height + 1])\n",
    "        check_paths2(paths_available, height + 1)\n",
    "\n",
    "valid_trailpaths = 0\n",
    "check_paths2(grad_pos[0], 0)\n",
    "\n",
    "valid_trailpaths"
   ]
  },
  {
   "cell_type": "markdown",
   "metadata": {},
   "source": [
    "# DAY 11"
   ]
  },
  {
   "cell_type": "code",
   "execution_count": 33,
   "metadata": {},
   "outputs": [
    {
     "data": {
      "text/plain": [
       "221280540398419"
      ]
     },
     "execution_count": 33,
     "metadata": {},
     "output_type": "execute_result"
    }
   ],
   "source": [
    "from functools import cache\n",
    "\n",
    "@cache\n",
    "def blink(d, i=75):\n",
    "    if i == 0:\n",
    "        return 1\n",
    "    if d == 0:\n",
    "        return blink(1, i - 1)\n",
    "    elif len(str(d)) % 2 == 0:\n",
    "        return blink(int(str(d)[:int(len( str(d)) / 2)]), i - 1) + blink(int(str(d)[int(len( str(d)) / 2):]), i - 1)\n",
    "    else:\n",
    "        return blink(d * 2024, i - 1)\n",
    "\n",
    "\n",
    "sum(map(blink, list(map(int,  \"70949 6183 4 3825336 613971 0 15 182\".split(' ')))))"
   ]
  },
  {
   "cell_type": "markdown",
   "metadata": {},
   "source": [
    "# DAY 12"
   ]
  },
  {
   "cell_type": "code",
   "execution_count": 135,
   "metadata": {},
   "outputs": [
    {
     "data": {
      "text/plain": [
       "1371306"
      ]
     },
     "execution_count": 135,
     "metadata": {},
     "output_type": "execute_result"
    }
   ],
   "source": [
    "# Part 1\n",
    "from collections import defaultdict\n",
    "\n",
    "map = {(i,j): v for i, line in enumerate(open('files/advent12.txt')) for j, v in enumerate(line) if v!='\\n'}\n",
    "areas = defaultdict(list)\n",
    "\n",
    "areas_splitted = defaultdict(list)\n",
    "\n",
    "in_area = []\n",
    "for (i,j), v in map.items():\n",
    "    areas[v].append((i, j))\n",
    "\n",
    "for v, l_xy in areas.items():\n",
    "    for (x, y) in l_xy:\n",
    "        if not areas_splitted[v]:\n",
    "            areas_splitted[v].append([(x, y)])\n",
    "            in_area.append((x, y))\n",
    "            continue\n",
    "        else:\n",
    "            matching_area = []\n",
    "            for i, started_area in enumerate(areas_splitted[v]):\n",
    "                if set([(x + i, y + j) for (i, j) in [(-1, 0), (0, 1), (1, 0), (0, -1)]]) & set(started_area):\n",
    "                    matching_area.append(i)\n",
    "                    \n",
    "            if len(matching_area) == 1:\n",
    "                areas_splitted[v][matching_area[0]].append((x, y))\n",
    "                in_area.append((x, y))\n",
    "                \n",
    "            elif len(matching_area) == 2:\n",
    "                areas_splitted[v][matching_area[0]] = areas_splitted[v][matching_area[0]] + areas_splitted[v].pop(matching_area[1]) + [(x, y)]\n",
    "                in_area.append((x, y))\n",
    "                \n",
    "            if (x, y) not in in_area:\n",
    "                areas_splitted[v].append([(x, y)])\n",
    "                in_area.append((x, y))\n",
    "    \n",
    "def get_perim(area):\n",
    "    return sum([(x + i, y + j) not in area for x,y in area for i,j in [(-1, 0), (0, 1), (1, 0), (0, -1)]])\n",
    "\n",
    "sum([get_perim(area) * len(area) for k, area_l in areas_splitted.items() for area in area_l])"
   ]
  },
  {
   "cell_type": "code",
   "execution_count": 136,
   "metadata": {},
   "outputs": [
    {
     "data": {
      "text/plain": [
       "805880"
      ]
     },
     "execution_count": 136,
     "metadata": {},
     "output_type": "execute_result"
    }
   ],
   "source": [
    "# Part 2\n",
    "def count_side(l_x_y, direction_x, direction_y):\n",
    "    tot = 0\n",
    "    counted = []\n",
    "    for (x,y) in l_x_y:\n",
    "        if (x,y) not in counted:\n",
    "            tot += 1\n",
    "        while (x + direction_x, y + direction_y) in l_x_y:\n",
    "            \n",
    "            counted.append((x + direction_x, y + direction_y))\n",
    "            x, y = x + direction_x, y + direction_y\n",
    "    return tot\n",
    "\n",
    "\n",
    "def get_side(area):\n",
    "    if len(area) in [1, 2]:\n",
    "        return 4\n",
    "    else:\n",
    "        sides_c = defaultdict(list)\n",
    "        for (x, y) in area:\n",
    "            for dir, i, j in [('up', -1, 0), ('down', 1, 0), ('right', 0, 1), ('left', 0, -1)]:\n",
    "                if (x + i, y + j) not in area:\n",
    "                    sides_c[dir].append((x, y))\n",
    "                    \n",
    "        return sum([count_side(sides_c['left'], 1, 0), count_side(sides_c['right'], 1, 0), \n",
    "                    count_side(sides_c['up'], 0, 1),  count_side(sides_c['down'], 0, 1)])\n",
    "  \n",
    "\n",
    "    \n",
    "sum([get_side(area) * len(area) for area_l in areas_splitted.values() for area in area_l])"
   ]
  },
  {
   "cell_type": "markdown",
   "metadata": {},
   "source": [
    "# DAY 13"
   ]
  },
  {
   "cell_type": "code",
   "execution_count": 131,
   "metadata": {},
   "outputs": [
    {
     "data": {
      "text/plain": [
       "480"
      ]
     },
     "execution_count": 131,
     "metadata": {},
     "output_type": "execute_result"
    }
   ],
   "source": [
    "# PART 1\n",
    "import re\n",
    "\n",
    "tot = 0\n",
    "for claw in open('files/advent13_test.txt').read().split('\\n\\n'):\n",
    "    a, b, prize = [tuple(map(int, re.findall('\\d+', a))) for a in claw.split('\\n')]\n",
    "\n",
    "    if a[0] * 100 + b[0] * 100 < prize[0] or a[1] * 100 + b[1] * 100 < prize[1]:\n",
    "        continue\n",
    "    else:\n",
    "        winning_comb = []\n",
    "        for i in range(100):\n",
    "            for j in range(100):\n",
    "                if prize == (a[0] * i + b[0] * j, a[1] * i + b[1] * j):\n",
    "                    winning_comb.append((i, j))\n",
    "        if not winning_comb:\n",
    "            continue\n",
    "        tot += min([3 * w[0] + w[1] for w in winning_comb])\n",
    "\n",
    "tot"
   ]
  },
  {
   "cell_type": "code",
   "execution_count": 134,
   "metadata": {},
   "outputs": [
    {
     "data": {
      "text/latex": [
       "$\\displaystyle 79352015273424$"
      ],
      "text/plain": [
       "79352015273424"
      ]
     },
     "execution_count": 134,
     "metadata": {},
     "output_type": "execute_result"
    }
   ],
   "source": [
    "# PART 2, works for PART 1 too\n",
    "import sympy as sym\n",
    "\n",
    "tot = 0\n",
    "for claw in open('files/advent13.txt').read().split('\\n\\n'):\n",
    "    a, b, prize = [tuple(map(int, re.findall('\\d+', a))) for a in claw.split('\\n')]\n",
    "    prize = (prize[0] + 10000000000000, prize[1] + 10000000000000)\n",
    "    x,y = sym.symbols('x,y', integer=True)\n",
    "    res = sym.solve([x * a[0] + y * b[0] - prize[0], x * a[1] + y * b[1] - prize[1]], (x, y))\n",
    "    tot += 3 * res[x] + res[y] if res else 0\n",
    "    \n",
    "tot"
   ]
  },
  {
   "cell_type": "markdown",
   "metadata": {},
   "source": [
    "# DAY 14"
   ]
  },
  {
   "cell_type": "code",
   "execution_count": 3,
   "metadata": {},
   "outputs": [
    {
     "data": {
      "text/plain": [
       "231019008"
      ]
     },
     "execution_count": 3,
     "metadata": {},
     "output_type": "execute_result"
    }
   ],
   "source": [
    "# PART 1\n",
    "from collections import defaultdict\n",
    "from functools import reduce\n",
    "import regex as re\n",
    "\n",
    "max_x, max_y = 101, 103\n",
    "counts = defaultdict(int)\n",
    "for l in open('files/advent14.txt'):\n",
    "    (x,y), (vx, vy)= (tuple(map(int, re.findall('-?\\d+', a))) for a in l.split(' '))\n",
    "    (x_100, y_100) = (x + 100 * vx) % max_x, (y + 100 * vy) % max_y\n",
    "    counts[(x_100 < (max_x - 1) / 2, y_100 < (max_y - 1) / 2)] += 1 if not (x_100 == (max_x - 1) / 2 or y_100 == (max_y - 1) / 2) else 0\n",
    "\n",
    "reduce(lambda cum, x: cum * x, counts.values(), 1)"
   ]
  },
  {
   "cell_type": "code",
   "execution_count": 193,
   "metadata": {},
   "outputs": [
    {
     "name": "stderr",
     "output_type": "stream",
     "text": [
      "100%|██████████| 10403/10403 [00:35<00:00, 293.97it/s]\n"
     ]
    },
    {
     "data": {
      "text/plain": [
       "(127, 8280)"
      ]
     },
     "execution_count": 193,
     "metadata": {},
     "output_type": "execute_result"
    }
   ],
   "source": [
    "# PART 2 - result oriented assuming tree is being displayed when nodes are not left alone\n",
    "from tqdm import tqdm\n",
    "\n",
    "max_x, max_y = 101, 103\n",
    "def get_counts(i):\n",
    "    values = {}\n",
    "    for l in open('files/advent14.txt'):\n",
    "        (x,y), (vx, vy) = (tuple(map(int, re.findall('-?\\d+', a))) for a in l.split(' '))\n",
    "        (x_i, y_i) = (x + i * vx) % max_x, (y + i * vy) % max_y\n",
    "        values[(x_i, y_i)] = 1\n",
    "    return values\n",
    "\n",
    "def count_neighbours(values):\n",
    "    is_alone = 0\n",
    "    for x,y in values.keys():\n",
    "        is_alone += sum([(x + i, y + j) not in values for i in [-1, 0, 1] for j in (-1, 0, 1) if (i, j) != (0, 0)]) == 8\n",
    "    return is_alone\n",
    "\n",
    "i = 0\n",
    "neighbours = []\n",
    "for i in tqdm(range(max_x * max_y)):\n",
    "    values = get_counts(i)\n",
    "    neighbours.append((count_neighbours(values), i))\n",
    "    \n",
    "min(neighbours)\n"
   ]
  },
  {
   "cell_type": "markdown",
   "metadata": {},
   "source": [
    "# DAY 15"
   ]
  },
  {
   "cell_type": "code",
   "execution_count": 26,
   "metadata": {},
   "outputs": [
    {
     "data": {
      "text/plain": [
       "1349898"
      ]
     },
     "execution_count": 26,
     "metadata": {},
     "output_type": "execute_result"
    }
   ],
   "source": [
    "map, directions = open('files/advent15.txt').read().split('\\n\\n')\n",
    "directions = directions.replace('\\n', '')\n",
    "map =  [[v for v in line] for line in map.split('\\n')]\n",
    "coords_symb = {(i, j): v for i, line in enumerate(map) for j, v in enumerate(line)}\n",
    "map_directions = {'<': (0, -1), '^': (-1, 0), \">\": (0, 1), 'v': (1, 0)}\n",
    "\n",
    "\n",
    "def move(x, y, symb):\n",
    "    dir_x, dir_y = map_directions[symb]\n",
    "    if coords_symb[(x + dir_x, y + dir_y)] == '.':\n",
    "        coords_symb[(x, y)] = '.'\n",
    "        coords_symb[(x + dir_x, y + dir_y)] = '@'\n",
    "        return (x + dir_x, y + dir_y)\n",
    "    elif coords_symb[(x + dir_x, y + dir_y)] == '#':\n",
    "        return (x, y)\n",
    "    elif coords_symb[(x + dir_x, y + dir_y)] == 'O':\n",
    "        start_x, start_y = (x, y)\n",
    "        while coords_symb[(x + dir_x, y + dir_y)] == 'O':\n",
    "            x, y = x + dir_x, y + dir_y\n",
    "        if coords_symb[(x + dir_x, y + dir_y)] == '#':\n",
    "            return (start_x, start_y)\n",
    "        else:\n",
    "            coords_symb[(x + dir_x, y + dir_y)] = 'O'\n",
    "            coords_symb[(start_x, start_y)] = '.'\n",
    "            coords_symb[(start_x + dir_x, start_y + dir_y)] = '@'\n",
    "            return (start_x + dir_x, start_y + dir_y)\n",
    "            \n",
    "(x, y) = [(i, j) for (i, j), k in coords_symb.items() if k == '@'][0]\n",
    "for i, symb in enumerate(directions):\n",
    "    x, y = move(x, y, symb)\n",
    "sum([100 * i + j for (i, j), s in coords_symb.items() if s == 'O'])\n"
   ]
  },
  {
   "cell_type": "code",
   "execution_count": 122,
   "metadata": {},
   "outputs": [
    {
     "data": {
      "text/plain": [
       "1376686"
      ]
     },
     "execution_count": 122,
     "metadata": {},
     "output_type": "execute_result"
    }
   ],
   "source": [
    "#PART 2 Nasty job here\n",
    "\n",
    "# debugging func\n",
    "def print_c(coords):\n",
    "    for i in range(len(l_map)):\n",
    "        l = ''\n",
    "        for j in range(len(l_map[0])):\n",
    "            l = l + coords[(i, j)]\n",
    "        print(l)\n",
    "\n",
    "map, directions = open('files/advent15.txt').read().split('\\n\\n')\n",
    "directions = directions.replace('\\n', '')\n",
    "l_map = []\n",
    "for line in map.split('\\n'):\n",
    "    m = []\n",
    "    for v in line:\n",
    "        if v in ['#', '.']:\n",
    "            m.append(v)\n",
    "            m.append(v)\n",
    "        elif v == 'O':\n",
    "            m.append('[')\n",
    "            m.append(']')\n",
    "        else:\n",
    "            m.append(v)\n",
    "            m.append('.')\n",
    "    l_map.append(m)\n",
    "\n",
    "coords_symb = {(i, j): v for i, line in enumerate(l_map) for j, v in enumerate(line)}\n",
    "map_directions = {'<': (0, -1), '^': (-1, 0), \">\": (0, 1), 'v': (1, 0)}\n",
    "\n",
    "\n",
    "\n",
    "def is_pushable(x, y, dir_x, dir_y, visited=[]):\n",
    "    visited.append((x, y))\n",
    "    if coords_symb[(x + dir_x, y + dir_y)] == \"#\":\n",
    "        return 1\n",
    "    elif coords_symb[(x + dir_x, y + dir_y)] == '[':\n",
    "        return is_pushable(x + dir_x, y + dir_y, dir_x, dir_y, visited) + is_pushable(x + dir_x, y + dir_y + 1, dir_x, dir_y, visited)\n",
    "    elif coords_symb[(x + dir_x, y + dir_y)] == ']':\n",
    "        return is_pushable(x + dir_x, y + dir_y, dir_x, dir_y, visited) + is_pushable(x + dir_x, y + dir_y - 1, dir_x, dir_y, visited)\n",
    "    else:\n",
    "        return 0\n",
    "    \n",
    "            \n",
    "def move(x, y, symb):\n",
    "    dir_x, dir_y = map_directions[symb]\n",
    "    if coords_symb[(x + dir_x, y + dir_y)] == '.':\n",
    "        coords_symb[(x, y)] = '.'\n",
    "        coords_symb[(x + dir_x, y + dir_y)] = '@'\n",
    "        return (x + dir_x, y + dir_y)\n",
    "    elif coords_symb[(x + dir_x, y + dir_y)] == '#':\n",
    "        return (x, y)\n",
    "    elif coords_symb[(x + dir_x, y + dir_y)] in ('[', ']'):\n",
    "        start_x, start_y = (x, y)\n",
    "        if dir_x == 0:\n",
    "            # usual things from part 1 with new symbols\n",
    "            while coords_symb[(x + dir_x, y + dir_y)] in ('[', ']'):\n",
    "                x, y = x + dir_x, y + dir_y\n",
    "            if coords_symb[(x + dir_x, y + dir_y)] == '#':\n",
    "                return (start_x, start_y)\n",
    "            else:\n",
    "                coords_symb[(start_x, start_y)] = '.'\n",
    "                while (x, y) != (start_x, start_y):\n",
    "                    coords_symb[(x + dir_x, y + dir_y)] = coords_symb[(x, y)]\n",
    "                    (x, y) = x -dir_x, y - dir_y\n",
    "                coords_symb[(start_x + dir_x, start_y + dir_y)] = '@'\n",
    "                return (start_x + dir_x, start_y + dir_y)\n",
    "        else:\n",
    "            # need to check recursively if movable then move all intricated boxes\n",
    "            visited = []\n",
    "            nb_blocked = is_pushable(x, y, dir_x, dir_y, visited)\n",
    "            if nb_blocked != 0:\n",
    "                return (x, y)\n",
    "            else:\n",
    "                to_clean = (x + dir_x, y + dir_y + 1) if coords_symb[(x + dir_x, y + dir_y)] == '[' else (x + dir_x, y + dir_y - 1)\n",
    "                to_update = [(x_v + dir_x, y_v + dir_y) for (x_v, y_v) in visited]\n",
    "                done = []\n",
    "                for (i, j) in visited[::-1]:\n",
    "                    if (i, j) != (x, y) and (i, j) not in done:\n",
    "                        coords_symb[(i + dir_x, j + dir_y)] = coords_symb[(i, j)]\n",
    "                        done.append((i, j))\n",
    "                        if (i, j) not in to_update:\n",
    "                            coords_symb[(i, j)] = '.'\n",
    "                coords_symb[(x, y)] = '.'\n",
    "                coords_symb[(x + dir_x, y + dir_y)] = '@'\n",
    "                coords_symb[to_clean] = '.'\n",
    "                return (x + dir_x, y + dir_y)\n",
    "            \n",
    "(x, y) = [(i, j) for (i, j), k in coords_symb.items() if k == '@'][0]\n",
    "for i, symb in enumerate(directions):\n",
    "    # print(i, symb)\n",
    "    # print_c(coords_symb)\n",
    "    x, y = move(x, y, symb)\n",
    "sum([100 * i + j for (i, j), s in coords_symb.items() if s == '['])\n",
    "#print_c(coords_symb)"
   ]
  },
  {
   "cell_type": "code",
   "execution_count": 6,
   "metadata": {},
   "outputs": [
    {
     "data": {
      "text/plain": [
       "[0, 0, 0, 1, 2, 2, 3, 5, 6]"
      ]
     },
     "execution_count": 6,
     "metadata": {},
     "output_type": "execute_result"
    }
   ],
   "source": [
    "\n",
    "nums1 = [1,2,3,0,0,0]\n",
    "nums2 = [2,5,6]\n",
    "sorted(nums1 + nums2)\n"
   ]
  },
  {
   "cell_type": "markdown",
   "metadata": {},
   "source": [
    "# DAY 16"
   ]
  },
  {
   "cell_type": "code",
   "execution_count": 263,
   "metadata": {},
   "outputs": [
    {
     "data": {
      "text/plain": [
       "(105496, 524)"
      ]
     },
     "execution_count": 263,
     "metadata": {},
     "output_type": "execute_result"
    }
   ],
   "source": [
    "# PART 1 + 2\n",
    "from collections import defaultdict\n",
    "from heapq import heapify, heappop, heappush\n",
    "map =  [[v for v in line] for line in open('files/advent16.txt').read().split('\\n')]\n",
    "coords_symb = {(i, j): v for i, line in enumerate(map) for j, v in enumerate(line) if v != \"#\"}\n",
    "\n",
    "\n",
    "(x, y) = [(i, j) for (i, j), k in coords_symb.items() if k == 'S'][0]\n",
    "(end_x, end_y) = [(i, j) for (i, j), k in coords_symb.items() if k == 'E'][0]\n",
    "\n",
    "shortest_distance = defaultdict(lambda: float('inf'))\n",
    "\n",
    "\n",
    "def find_shortest(start_x, start_y):\n",
    "    min_d = float('inf')\n",
    "    distances = [(0, (start_x, start_y), (0, 1), [(start_x, start_y)])]\n",
    "    paths = []\n",
    "    heapify(distances)\n",
    "    while distances:\n",
    "        d, (x,y), (dir_x, dir_y), p = heappop(distances)\n",
    "        if d > min_d:\n",
    "            break\n",
    "        if (x, y, dir_x, dir_y) in shortest_distance and d > shortest_distance[(x, y, dir_x, dir_y)]:\n",
    "            continue\n",
    "        if coords_symb[(x, y)] == 'E':\n",
    "            min_d = d\n",
    "            paths.extend(p)\n",
    "        shortest_distance[(x, y, dir_x, dir_y)] = d\n",
    "        if (x + dir_x, y + dir_y) in coords_symb:\n",
    "            heappush(distances, (d + 1, (x + dir_x, y + dir_y), (dir_x, dir_y), p + [(x + dir_x, y + dir_y)]))\n",
    "        if (x + dir_y, y + dir_x) in coords_symb:\n",
    "            heappush(distances, (d + 1000, (x, y), (dir_y, dir_x), p + [(x, y)]))\n",
    "        if (x - dir_y, y - dir_x) in coords_symb:\n",
    "            heappush(distances, (d + 1000, (x, y), (-dir_y, -dir_x), p + [(x, y)]))\n",
    "\n",
    "    return min_d, paths\n",
    "\n",
    "shortest, paths = find_shortest(x, y)\n",
    "shortest, len(set(paths))"
   ]
  },
  {
   "cell_type": "markdown",
   "metadata": {},
   "source": [
    "# DAY 17"
   ]
  },
  {
   "cell_type": "code",
   "execution_count": 32,
   "metadata": {},
   "outputs": [
    {
     "name": "stdout",
     "output_type": "stream",
     "text": [
      "5,1,3,4,3,7,2,1,7\n"
     ]
    },
    {
     "data": {
      "text/plain": [
       "216584205979245"
      ]
     },
     "execution_count": 32,
     "metadata": {},
     "output_type": "execute_result"
    }
   ],
   "source": [
    "import re\n",
    "\n",
    "registers, program = open('files/advent17.txt').read().split('\\n\\n')\n",
    "a, b, c = map(int, re.findall('\\d+', registers))\n",
    "program = list(map(int, program.split(': ')[1].split(',')))\n",
    "\n",
    "        \n",
    "def execute(a, b, c):\n",
    "    output = []\n",
    "    i = 0\n",
    "    while i < len(program):\n",
    "        operand = program[i + 1]\n",
    "        combo = [0,1,2,3,a,b,c,99999][operand]\n",
    "        match program[i]:\n",
    "            case 0:\n",
    "                a = int(a / 2**combo)\n",
    "            case 1:\n",
    "                b = b ^ operand\n",
    "            case 2:\n",
    "                b = combo % 8\n",
    "            case 3:\n",
    "                i = operand - 2 if a else i\n",
    "            case 4:\n",
    "                b = b ^ c\n",
    "            case 5:\n",
    "                output.append(combo % 8)\n",
    "            case 6:\n",
    "                b = int(a / 2**combo)\n",
    "            case 7:\n",
    "                c = int(a / 2**combo)\n",
    "        i += 2\n",
    "    return output\n",
    "print(','.join(map(str, execute(a, b, c))))\n",
    "\n",
    "\n",
    "# PART 2 - from 4HbQ\n",
    "valid_a = []\n",
    "def find(a, i):\n",
    "    if execute(a, b, c) == program: valid_a.append(a)\n",
    "    if execute(a, b, c) == program[-i:] or not i:\n",
    "        for n in range(8): \n",
    "            find(8*a+n, i+1)\n",
    "        \n",
    "find(0, 0)\n",
    "min(valid_a)"
   ]
  },
  {
   "cell_type": "markdown",
   "metadata": {},
   "source": [
    "# DAY 18"
   ]
  },
  {
   "cell_type": "code",
   "execution_count": 134,
   "metadata": {},
   "outputs": [
    {
     "data": {
      "text/plain": [
       "280"
      ]
     },
     "execution_count": 134,
     "metadata": {},
     "output_type": "execute_result"
    }
   ],
   "source": [
    "# PART 1\n",
    "from collections import deque\n",
    "import re\n",
    "\n",
    "map_size = 70\n",
    "fallen_bytes = 1024\n",
    "\n",
    "falling_bytes = [(tuple(map(int, re.findall('\\d+', a)))) for a in open('files/advent18.txt').read().split('\\n')]\n",
    "start_x, start_y = (0, 0)\n",
    "end_x, end_y = (map_size, map_size)\n",
    "\n",
    "\n",
    "def visit(fallen_bytes, x=start_x, y=start_y):\n",
    "    coords_symb = {(x, y) for x in range(map_size + 1) for y in range(map_size + 1) if (y, x) not in falling_bytes[:fallen_bytes]}\n",
    "    seen = set()\n",
    "    q = deque([(0, (start_x, start_y))])\n",
    "    min_d = 100_000\n",
    "    while q:\n",
    "        d, (x, y) = q.popleft()\n",
    "        if (x, y) == (end_x, end_y):\n",
    "            min_d = d\n",
    "            break\n",
    "        for dir_x, dir_y in [(0,1), (0, -1), (1, 0), (-1, 0)]:\n",
    "            if (x + dir_x, y + dir_y) in coords_symb and (x + dir_x, y + dir_y) not in seen:\n",
    "                seen.add((x + dir_x, y + dir_y))\n",
    "                q.append((d + 1, (x + dir_x, y + dir_y)))\n",
    "    return min_d\n",
    "\n",
    "visit(1024)"
   ]
  },
  {
   "cell_type": "code",
   "execution_count": 137,
   "metadata": {},
   "outputs": [
    {
     "data": {
      "text/plain": [
       "(28, 56)"
      ]
     },
     "execution_count": 137,
     "metadata": {},
     "output_type": "execute_result"
    }
   ],
   "source": [
    "#PART 2\n",
    "from bisect import bisect\n",
    "\n",
    "falling_bytes[bisect(range(len(falling_bytes)), 99_999, key=visit) - 1]"
   ]
  },
  {
   "cell_type": "markdown",
   "metadata": {},
   "source": [
    "# DAY 19"
   ]
  },
  {
   "cell_type": "code",
   "execution_count": 130,
   "metadata": {},
   "outputs": [
    {
     "data": {
      "text/plain": [
       "(336, 758890600222015)"
      ]
     },
     "execution_count": 130,
     "metadata": {},
     "output_type": "execute_result"
    }
   ],
   "source": [
    "from functools import cache\n",
    "\n",
    "towels, designs = open('files/advent19.txt').read().split('\\n\\n')\n",
    "towels, designs = towels.split(', '), designs.split('\\n')\n",
    "max_towel_size = max([len(t) for t in towels])\n",
    "\n",
    "@cache\n",
    "def get_combinations(word, depth=0):\n",
    "    if depth == 0:\n",
    "        return 1\n",
    "    tot = 0\n",
    "    for i in range(1, max_towel_size + 1)[::-1]:\n",
    "        first_part = word[:i]\n",
    "        if first_part in towels:\n",
    "            tot += get_combinations(word[i:], depth - i)\n",
    "    return tot\n",
    "\n",
    "sum(get_combinations(d, len(d)) > 0 for d in designs), sum(get_combinations(d, len(d)) for d in designs)"
   ]
  },
  {
   "cell_type": "markdown",
   "metadata": {},
   "source": [
    "# DAY 20"
   ]
  },
  {
   "cell_type": "code",
   "execution_count": 516,
   "metadata": {},
   "outputs": [
    {
     "data": {
      "text/plain": [
       "1441"
      ]
     },
     "execution_count": 516,
     "metadata": {},
     "output_type": "execute_result"
    }
   ],
   "source": [
    "from collections import defaultdict\n",
    "\n",
    "path_coord = {(x, y): v for x, line in enumerate(open('files/advent20.txt').read().split('\\n')) for y, v in enumerate(line) if v != '#'}\n",
    "wall_coord = [(x, y) for x, line in enumerate(open('files/advent20.txt').read().split('\\n')) for y, v in enumerate(line) if v == '#']\n",
    "cheats = defaultdict(list)\n",
    "\n",
    "x, y = [(x, y) for (x, y), k in path_coord.items() if k == 'S'][0]\n",
    "last_x, last_y = None, None\n",
    "end_x, end_y = [(x, y) for (x, y), k in path_coord.items() if k == 'E'][0]\n",
    "\n",
    "dist = 1\n",
    "distances = {(x, y): 0}\n",
    "while (x, y) != (end_x, end_y):\n",
    "    for (dir_x, dir_y) in [(-1, 0), (1, 0), (0, -1), (0, 1)]:\n",
    "        if (x + dir_x, y + dir_y) in path_coord and (x + dir_x, y + dir_y) != (last_x, last_y):\n",
    "            distances[(x + dir_x, y + dir_y)] = dist\n",
    "            dist += 1\n",
    "            (last_x, last_y) = x, y\n",
    "            (x, y) = x + dir_x, y + dir_y\n",
    "            break\n",
    "\n",
    "for (x, y) in wall_coord:\n",
    "    paths = []\n",
    "    for (dir_x, dir_y) in [(-1, 0), (1, 0), (0, -1), (0, 1)]:\n",
    "        if (x + dir_x, y + dir_y) in distances:\n",
    "            paths.append((x + dir_x, y + dir_y))\n",
    "\n",
    "    if len(paths) > 1:\n",
    "        max_cheat = max(abs(distances[(x0, y0)] - distances[(x1, y1)]) - (abs(x0 - x1) + abs(y0 - y1)) for ((x0, y0), (x1, y1)) in combinations(paths, 2))\n",
    "        cheats[max_cheat].append((x, y))\n",
    "        \n",
    "sum(len(l_coords) for k, l_coords in cheats.items() if k >= 100)"
   ]
  },
  {
   "cell_type": "code",
   "execution_count": 517,
   "metadata": {},
   "outputs": [
    {
     "data": {
      "text/plain": [
       "1021490"
      ]
     },
     "execution_count": 517,
     "metadata": {},
     "output_type": "execute_result"
    }
   ],
   "source": [
    "# PART 2 - can change a few structure to make code leanier but easier to debug this way\n",
    "cheats = defaultdict(list)\n",
    "seen = set()\n",
    "\n",
    "def get_points_within_distance(max_distance):\n",
    "    return [(x, y) for x in range(-max_distance, max_distance +1) for y in range(-(max_distance - abs(x)), max_distance - abs(x)  + 1)]\n",
    "\n",
    "l_dir_xy = get_points_within_distance(20)\n",
    "\n",
    "for (x, y) in path_coord:\n",
    "    paths = []  \n",
    "    for (dir_x, dir_y) in l_dir_xy:\n",
    "        if (x + dir_x, y + dir_y) in distances:\n",
    "            paths.append((x + dir_x, y + dir_y))\n",
    "    if len(paths) > 1:\n",
    "        for i, (e_x, e_y) in enumerate(paths):\n",
    "            if ((e_x, e_y), (x, y)) in seen:\n",
    "                continue\n",
    "            dist = abs(distances[(x, y)] - distances[(e_x, e_y)]) - (abs(x - e_x) + abs(y - e_y))\n",
    "            cheats[dist].append(((x, y), (e_x, e_y)))\n",
    "            seen.add(((x, y), (e_x, e_y)))\n",
    "\n",
    "sum(len(l_coords) for k, l_coords in cheats.items() if k >= 100)"
   ]
  },
  {
   "cell_type": "markdown",
   "metadata": {},
   "source": [
    "# DAY 21"
   ]
  },
  {
   "cell_type": "code",
   "execution_count": 27,
   "metadata": {},
   "outputs": [
    {
     "data": {
      "text/plain": [
       "231309103124520"
      ]
     },
     "execution_count": 27,
     "metadata": {},
     "output_type": "execute_result"
    }
   ],
   "source": [
    "import re\n",
    "from functools import cache\n",
    "\n",
    "# inputs = [\"029A\", \"980A\", \"179A\", \"456A\", \"379A\"]\n",
    "inputs = open('files/advent21.txt').read().split('\\n')\n",
    "\n",
    "num_pad = {'7': (0, 0), '8': (0, 1), '9': (0, 2),\n",
    "           '4': (1, 0), '5': (1, 1), '6': (1, 2),\n",
    "           '1': (2, 0), '2': (2, 1), '3': (2, 2),\n",
    "           'X': (3, 0), '0': (3, 1), 'A': (3, 2)}\n",
    "\n",
    "dir_pad = {'X': (0, 0), '^': (0, 1), 'A': (0, 2),\n",
    "           '<': (1, 0), 'v': (1, 1), '>': (1, 2)}\n",
    "\n",
    "\n",
    "@cache\n",
    "def get_path_length(current_symb, end_symb, depth, part1=True):\n",
    "    max_depth = 2 if part1 else 25\n",
    "    dict_path = num_pad if depth == 0 else dir_pad\n",
    "    pos, pos_end, pos_blocked = dict_path[current_symb], dict_path[end_symb], dict_path['X']\n",
    "    dist_x, dist_y = pos[0] - pos_end[0], pos[1] - pos_end[1]\n",
    "    move_x, move_y = '^' if dist_x >= 0 else 'v', '<' if dist_y >= 0 else '>'\n",
    "    prioritize_y = (move_y == '<' and not (dist_y and pos[1] - dist_y == pos_blocked[1] and pos[0] == pos_blocked[0])\n",
    "                            or\n",
    "                    move_x in '^v' and dist_x and pos[0] - dist_x == pos_blocked[0] and pos[1] == pos_blocked[1])\n",
    "    s_path =  move_y * abs(dist_y) + move_x * abs(dist_x) + 'A' if prioritize_y else move_x * abs(dist_x) + move_y * abs(dist_y) + 'A'\n",
    "    \n",
    "    if depth == max_depth:\n",
    "        return len(s_path)\n",
    "    else:\n",
    "        length, pos_symb = 0, 'A' \n",
    "        for symb in s_path:\n",
    "            length += get_path_length(pos_symb, symb, depth + 1, part1)\n",
    "            pos_symb = symb\n",
    "        return length\n",
    "\n",
    "tot = 0\n",
    "for input in inputs:\n",
    "    l, pos = 0, 'A'\n",
    "    for c in input:\n",
    "        l += get_path_length(pos, c, 0, part1=False)\n",
    "        pos = c\n",
    "    tot += l * int(''.join(list(re.findall('\\d', input))))\n",
    "\n",
    "    \n",
    "tot"
   ]
  },
  {
   "cell_type": "markdown",
   "metadata": {},
   "source": [
    "# DAY 22"
   ]
  },
  {
   "cell_type": "code",
   "execution_count": 123,
   "metadata": {},
   "outputs": [
    {
     "data": {
      "text/plain": [
       "(14392541715, 1628)"
      ]
     },
     "execution_count": 123,
     "metadata": {},
     "output_type": "execute_result"
    }
   ],
   "source": [
    "from functools import cache\n",
    "from collections import defaultdict\n",
    "sequences = defaultdict(int)\n",
    "\n",
    "@cache\n",
    "def compute_secret(secret, i):\n",
    "    mix = lambda a,b: a ^ b\n",
    "    prune = lambda a: a % 16777216\n",
    "    val = lambda a: int(str(a)[-1])\n",
    "    if i == 0:\n",
    "        return secret\n",
    "    else:\n",
    "        last_secret = secret\n",
    "        secret = prune(mix(secret * 64, secret))\n",
    "        secret = prune(mix(int(secret / 32), secret))\n",
    "        secret = prune(mix(secret * 2048, secret))\n",
    "        s_i.append((val(secret), val(secret) - val(last_secret)))\n",
    "        return compute_secret(secret, i - 1)\n",
    "    \n",
    "tot = 0\n",
    "for s in open('files/advent22.txt').read().split('\\n'):\n",
    "    s_i = []\n",
    "    seen_i = set()\n",
    "    # Recursion error with 2000\n",
    "    tot += compute_secret(compute_secret(int(s), 1000), 1000)\n",
    "    for i in range(len(s_i)):\n",
    "        seq = s_i[i: i + 4]\n",
    "        key = tuple([a[1] for a in seq])\n",
    "        if len(seq) == 4:\n",
    "            bananas = seq[-1][0]\n",
    "            if key not in seen_i: \n",
    "                sequences[key] += bananas\n",
    "                seen_i.add(key)\n",
    "                \n",
    "tot, max(sequences.values())\n",
    " "
   ]
  },
  {
   "cell_type": "markdown",
   "metadata": {},
   "source": [
    "# DAY 23"
   ]
  },
  {
   "cell_type": "code",
   "execution_count": 127,
   "metadata": {},
   "outputs": [],
   "source": [
    "from collections import defaultdict\n",
    "from itertools import combinations\n",
    "relations = defaultdict(list)\n",
    "for l in open('files/advent23.txt').read().split('\\n'):\n",
    "    first, second = l.split('-')\n",
    "    relations[first].append(second)\n",
    "    relations[second].append(first)\n",
    "\n",
    "def check(trio):\n",
    "    for i in range(len(trio)):\n",
    "        if not all([trio[i] in relations[other] for other in trio[:i] + trio[i + 1:]]):\n",
    "            return False\n",
    "    return True\n"
   ]
  },
  {
   "cell_type": "code",
   "execution_count": 128,
   "metadata": {},
   "outputs": [
    {
     "data": {
      "text/plain": [
       "1304"
      ]
     },
     "execution_count": 128,
     "metadata": {},
     "output_type": "execute_result"
    }
   ],
   "source": [
    "# PART 1\n",
    "trios = set()\n",
    "for first_r, l_r in relations.items():\n",
    "    if first_r.startswith('t'):\n",
    "        for duo in combinations(l_r, 2):\n",
    "            if check((first_r,) + duo):\n",
    "                trios.add(tuple(sorted((first_r,) + duo)))\n",
    "len(trios)"
   ]
  },
  {
   "cell_type": "code",
   "execution_count": 129,
   "metadata": {},
   "outputs": [
    {
     "data": {
      "text/plain": [
       "1304"
      ]
     },
     "execution_count": 129,
     "metadata": {},
     "output_type": "execute_result"
    }
   ],
   "source": [
    "# PART 1 - one liner\n",
    "len(set(tuple(sorted((first_r,) + duo)) for first_r, l_r in relations.items() for duo in combinations(l_r, 2) if first_r.startswith('t') and check((first_r, ) + duo)))\n"
   ]
  },
  {
   "cell_type": "code",
   "execution_count": 31,
   "metadata": {},
   "outputs": [
    {
     "data": {
      "text/plain": [
       "'ao,es,fe,if,in,io,ky,qq,rd,rn,rv,vc,vl'"
      ]
     },
     "execution_count": 31,
     "metadata": {},
     "output_type": "execute_result"
    }
   ],
   "source": [
    "# PART 2\n",
    "sorted_relations = dict(sorted(relations.items(), key=lambda item: len(item[1])))\n",
    "max_relation = ()\n",
    "for first_r, l_r in sorted_relations.items():\n",
    "    max_relation_r = ()\n",
    "    for comb_size in range(len(l_r))[::-1]:\n",
    "        if comb_size + 1 <= len(max_relation_r):\n",
    "            continue\n",
    "        for others in combinations(l_r, comb_size):\n",
    "            if check((first_r,) + others):\n",
    "                if len(others) + 1 > len(max_relation_r):\n",
    "                    max_relation_r = tuple(sorted((first_r,) + others))\n",
    "    if len(max_relation_r) > len(max_relation):\n",
    "        max_relation = max_relation_r\n",
    "        \n",
    "','.join(max_relation)"
   ]
  },
  {
   "cell_type": "markdown",
   "metadata": {},
   "source": [
    "# DAY 24"
   ]
  },
  {
   "cell_type": "code",
   "execution_count": 94,
   "metadata": {},
   "outputs": [
    {
     "data": {
      "text/plain": [
       "(58367545758258, 'bpf,fdw,hcc,hqc,qcw,z05,z11,z35')"
      ]
     },
     "execution_count": 94,
     "metadata": {},
     "output_type": "execute_result"
    }
   ],
   "source": [
    "init_values, instructions = open('files/advent24.txt').read().split('\\n\\n')\n",
    "\n",
    "val = {line.split(':')[0]: int(line.split(':')[1]) for line in init_values.split('\\n')}\n",
    "\n",
    "def clean_instruction(instruction):\n",
    "    gate, res = instruction.split(' -> ')\n",
    "    return tuple(gate.split(' ') + [res])\n",
    "\n",
    "instructions_q = list(map(clean_instruction, instructions.split('\\n')))\n",
    "\n",
    "wrong_instructions = set()\n",
    "max_z = sorted(instructions_q, key=lambda a: a[-1], reverse=True)[0][-1]\n",
    "\n",
    "# lcsddit reddit account rules - verify if instructions checks with normal ripple carry adder behaviour\n",
    "for w0, ope, w1, res in instructions_q:\n",
    "    if res[0] == 'z' and ope != 'XOR' and res != max_z:\n",
    "        wrong_instructions.add(res)\n",
    "    if (\n",
    "        ope == \"XOR\"\n",
    "        and res[0] not in [\"x\", \"y\", \"z\"]\n",
    "        and w0[0] not in [\"x\", \"y\", \"z\"]\n",
    "        and w1[0] not in [\"x\", \"y\", \"z\"]\n",
    "    ):  \n",
    "        wrong_instructions.add(res)\n",
    "    if ope == \"AND\" and \"x00\" not in [w0, w1]:\n",
    "        for subw0, subope, subw1, _ in instructions_q:\n",
    "            if (res == subw0 or res == subw1) and subope != \"OR\":\n",
    "                wrong_instructions.add(res)\n",
    "    if ope == \"XOR\":\n",
    "         for subw0, subope, subw1, _ in instructions_q:\n",
    "            if (res == subw0 or res == subw1) and subope == \"OR\":\n",
    "                wrong_instructions.add(res)\n",
    "                \n",
    "#PART 1\n",
    "while instructions_q:\n",
    "    w0, ope, w1, res = instructions_q.pop(0)\n",
    "    gate = f'{w0} {ope} {w1}'.replace('AND', '&').replace('XOR', '!=').replace('OR', '|').replace(w0, f\"val['{w0}']\").replace(w1, f\"val['{w1}']\")\n",
    "    if w0 in val and w1 in val:\n",
    "        val[res] = int(eval(gate))\n",
    "    else:\n",
    "        instructions_q.append((w0, w1, ope, res))\n",
    "\n",
    "s = sum( val[z] * 2 ** i for i, z in enumerate(sorted([w for w in val if w.startswith('z')])))\n",
    "s, ','.join(sorted(wrong_instructions))"
   ]
  },
  {
   "cell_type": "markdown",
   "metadata": {},
   "source": [
    "# DAY 25"
   ]
  },
  {
   "cell_type": "code",
   "execution_count": 125,
   "metadata": {},
   "outputs": [
    {
     "data": {
      "text/plain": [
       "3287"
      ]
     },
     "execution_count": 125,
     "metadata": {},
     "output_type": "execute_result"
    }
   ],
   "source": [
    "locks, keys = [], []\n",
    "for block_raw in open('files/advent25.txt').read().split('\\n\\n'):\n",
    "    block = block_raw.split('\\n')\n",
    "    is_lock = True if all(b == '#' for b in block[0]) else False\n",
    "    if not is_lock:\n",
    "        block = block[::-1]\n",
    "    s = [sum(block[j][i] == '#' for j in range(len(block))) for i in range(len(block[0]))]\n",
    "    locks.append(s) if is_lock else keys.append(s)\n",
    "    \n",
    "sum(not any(k + l > len(block) for k, l in zip(key, lock)) for key in keys for lock in locks)"
   ]
  }
 ],
 "metadata": {
  "kernelspec": {
   "display_name": "jupyter_env",
   "language": "python",
   "name": "python3"
  },
  "language_info": {
   "codemirror_mode": {
    "name": "ipython",
    "version": 3
   },
   "file_extension": ".py",
   "mimetype": "text/x-python",
   "name": "python",
   "nbconvert_exporter": "python",
   "pygments_lexer": "ipython3",
   "version": "3.11.0"
  }
 },
 "nbformat": 4,
 "nbformat_minor": 2
}
